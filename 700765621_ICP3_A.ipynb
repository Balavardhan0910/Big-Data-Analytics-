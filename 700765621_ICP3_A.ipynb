{
  "nbformat": 4,
  "nbformat_minor": 0,
  "metadata": {
    "colab": {
      "provenance": []
    },
    "kernelspec": {
      "name": "python3",
      "display_name": "Python 3"
    },
    "language_info": {
      "name": "python"
    }
  },
  "cells": [
    {
      "cell_type": "markdown",
      "source": [
        "**Balavardhan Reddy Kotla**\n",
        "**700765621**"
      ],
      "metadata": {
        "id": "DC-BUOlRdxfN"
      }
    },
    {
      "cell_type": "markdown",
      "source": [
        "**1) a**"
      ],
      "metadata": {
        "id": "F7Qg_I7sdlSX"
      }
    },
    {
      "cell_type": "code",
      "execution_count": 1,
      "metadata": {
        "colab": {
          "base_uri": "https://localhost:8080/"
        },
        "id": "c2PJKJlUdWbq",
        "outputId": "7f239c20-8a62-40b0-d085-553644e7b893"
      },
      "outputs": [
        {
          "output_type": "stream",
          "name": "stdout",
          "text": [
            "Original Vector:\n",
            " [19 10  4 20  8  4 14 14 14  2 15 12  9 13  5]\n",
            "Reshaped Array (3x5):\n",
            " [[19 10  4 20  8]\n",
            " [ 4 14 14 14  2]\n",
            " [15 12  9 13  5]]\n",
            "After replacing max in each row with 0:\n",
            " [[19 10  4  0  8]\n",
            " [ 4  0 14 14  2]\n",
            " [ 0 12  9 13  5]]\n"
          ]
        }
      ],
      "source": [
        "import numpy as np\n",
        "\n",
        "# 1. Create random vector\n",
        "vector = np.random.randint(1, 21, size=15)\n",
        "print(\"Original Vector:\\n\", vector)\n",
        "\n",
        "# 2. Reshape to 3x5\n",
        "reshaped = vector.reshape(3, 5)\n",
        "print(\"Reshaped Array (3x5):\\n\", reshaped)\n",
        "\n",
        "# 3. Replace max in each row with 0\n",
        "for row in reshaped:\n",
        "    row[np.argmax(row)] = 0\n",
        "print(\"After replacing max in each row with 0:\\n\", reshaped)\n"
      ]
    },
    {
      "cell_type": "markdown",
      "source": [
        "**b.  2D array and metadata**"
      ],
      "metadata": {
        "id": "PYq_jEWReHE_"
      }
    },
    {
      "cell_type": "code",
      "source": [
        "array_2d = np.array([[1, 2, 3], [4, 5, 6], [7, 8, 9], [10, 11, 12]], dtype=np.int32)\n",
        "print(\"2D Array:\\n\", array_2d)\n",
        "print(\"Shape:\", array_2d.shape)\n",
        "print(\"Type:\", type(array_2d))\n",
        "print(\"Data Type:\", array_2d.dtype)\n"
      ],
      "metadata": {
        "colab": {
          "base_uri": "https://localhost:8080/"
        },
        "id": "hKm6Xu8jeJiJ",
        "outputId": "67b9863e-5147-4b53-ea95-f5e85aadb332"
      },
      "execution_count": 2,
      "outputs": [
        {
          "output_type": "stream",
          "name": "stdout",
          "text": [
            "2D Array:\n",
            " [[ 1  2  3]\n",
            " [ 4  5  6]\n",
            " [ 7  8  9]\n",
            " [10 11 12]]\n",
            "Shape: (4, 3)\n",
            "Type: <class 'numpy.ndarray'>\n",
            "Data Type: int32\n"
          ]
        }
      ]
    },
    {
      "cell_type": "markdown",
      "source": [
        "**C. Eigenvalues and eigenvectors**"
      ],
      "metadata": {
        "id": "H4OxOb6ZeoJP"
      }
    },
    {
      "cell_type": "code",
      "source": [
        "matrix = np.array([[3, -2],\n",
        "                   [1, 0]])\n",
        "eigenvalues, eigenvectors = np.linalg.eig(matrix)\n",
        "print(\"Eigenvalues:\\n\", eigenvalues)\n",
        "print(\"Right Eigenvectors:\\n\", eigenvectors)\n"
      ],
      "metadata": {
        "colab": {
          "base_uri": "https://localhost:8080/"
        },
        "id": "nmB1jKE8evkM",
        "outputId": "a3d2cfad-b241-4dfb-bf28-ede97b0459bd"
      },
      "execution_count": 3,
      "outputs": [
        {
          "output_type": "stream",
          "name": "stdout",
          "text": [
            "Eigenvalues:\n",
            " [2. 1.]\n",
            "Right Eigenvectors:\n",
            " [[0.89442719 0.70710678]\n",
            " [0.4472136  0.70710678]]\n"
          ]
        }
      ]
    },
    {
      "cell_type": "markdown",
      "source": [
        "**d. Sum of diagonal elements**"
      ],
      "metadata": {
        "id": "Ab4AHszMez3-"
      }
    },
    {
      "cell_type": "code",
      "source": [
        "array = np.array([[0, 1, 2],\n",
        "                  [3, 4, 5]])\n",
        "diagonal_sum = np.trace(array)\n",
        "print(\"Sum of diagonal elements:\", diagonal_sum)\n"
      ],
      "metadata": {
        "colab": {
          "base_uri": "https://localhost:8080/"
        },
        "id": "OkbJWod4e_pq",
        "outputId": "f66441a0-a86a-4622-a018-6464e8df1783"
      },
      "execution_count": 4,
      "outputs": [
        {
          "output_type": "stream",
          "name": "stdout",
          "text": [
            "Sum of diagonal elements: 4\n"
          ]
        }
      ]
    },
    {
      "cell_type": "markdown",
      "source": [
        "**e. Reshape without changing data**"
      ],
      "metadata": {
        "id": "SyPZQnjRfilK"
      }
    },
    {
      "cell_type": "code",
      "source": [
        "original = np.array([[1, 2],\n",
        "                     [3, 4],\n",
        "                     [5, 6]])\n",
        "reshaped = original.reshape(2, 3)\n",
        "print(\"Reshaped to 2x3:\\n\", reshaped)\n"
      ],
      "metadata": {
        "colab": {
          "base_uri": "https://localhost:8080/"
        },
        "id": "DHonIw8qfps4",
        "outputId": "2d29b32b-8d1f-4479-a516-c9506a19eaee"
      },
      "execution_count": 6,
      "outputs": [
        {
          "output_type": "stream",
          "name": "stdout",
          "text": [
            "Reshaped to 2x3:\n",
            " [[1 2 3]\n",
            " [4 5 6]]\n"
          ]
        }
      ]
    }
  ]
}