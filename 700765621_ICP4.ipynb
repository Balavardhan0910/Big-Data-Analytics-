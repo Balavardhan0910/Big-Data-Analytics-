{
  "nbformat": 4,
  "nbformat_minor": 0,
  "metadata": {
    "colab": {
      "provenance": []
    },
    "kernelspec": {
      "name": "python3",
      "display_name": "Python 3"
    },
    "language_info": {
      "name": "python"
    }
  },
  "cells": [
    {
      "cell_type": "markdown",
      "source": [
        "**Balavardhan Reddy Kotla**\n",
        "**700765621**\n"
      ],
      "metadata": {
        "id": "2bcqrW9KwdUC"
      }
    },
    {
      "cell_type": "code",
      "execution_count": 2,
      "metadata": {
        "id": "l_4e4frBwahq"
      },
      "outputs": [],
      "source": [
        "import pandas as pd\n",
        "import numpy as np\n",
        "import matplotlib.pyplot as plt\n",
        "\n",
        "# 1. Creating a DataFrame from a given dictionary\n",
        "data_dict = {\n",
        "    \"ID\": [101, 102, 103, 104, 105],\n",
        "    \"Value\": [23, 45, 12, 67, 34],\n",
        "    \"Type\": ['A', 'B', 'A', 'C', 'B']\n",
        "}\n",
        "df = pd.DataFrame(data_dict)"
      ]
    },
    {
      "cell_type": "code",
      "source": [
        "# 2. Output first 10 rows\n",
        "print(\"First 10 rows of DataFrame:\")\n",
        "print(df.head(10))\n",
        "\n",
        "\n"
      ],
      "metadata": {
        "colab": {
          "base_uri": "https://localhost:8080/"
        },
        "id": "aEmp9_hwxCNH",
        "outputId": "d68419fc-a920-4b1d-8e07-1ed8a85eb7c1"
      },
      "execution_count": 3,
      "outputs": [
        {
          "output_type": "stream",
          "name": "stdout",
          "text": [
            "First 10 rows of DataFrame:\n",
            "    ID  Value Type\n",
            "0  101     23    A\n",
            "1  102     45    B\n",
            "2  103     12    A\n",
            "3  104     67    C\n",
            "4  105     34    B\n"
          ]
        }
      ]
    },
    {
      "cell_type": "code",
      "source": [
        "# 3. Access a column “Value”\n",
        "print(\"\\nAccessing 'Value' column:\")\n",
        "print(df[\"Value\"])"
      ],
      "metadata": {
        "colab": {
          "base_uri": "https://localhost:8080/"
        },
        "id": "H4XqViT5xCB_",
        "outputId": "4f3330e5-b7fd-416e-f67a-2ca7e843d59f"
      },
      "execution_count": 4,
      "outputs": [
        {
          "output_type": "stream",
          "name": "stdout",
          "text": [
            "\n",
            "Accessing 'Value' column:\n",
            "0    23\n",
            "1    45\n",
            "2    12\n",
            "3    67\n",
            "4    34\n",
            "Name: Value, dtype: int64\n"
          ]
        }
      ]
    },
    {
      "cell_type": "code",
      "source": [
        "\n",
        "# 4. Modify column names and show first 5 rows\n",
        "df.columns = [\"ID number\", \"Random value\", \"Choice\"]\n",
        "print(\"\\nModified column names (first 5 rows):\")\n",
        "print(df.head())"
      ],
      "metadata": {
        "colab": {
          "base_uri": "https://localhost:8080/"
        },
        "id": "1mVl1oYkxBy6",
        "outputId": "3a380660-5466-4c9f-971b-a87967926728"
      },
      "execution_count": 5,
      "outputs": [
        {
          "output_type": "stream",
          "name": "stdout",
          "text": [
            "\n",
            "Modified column names (first 5 rows):\n",
            "   ID number  Random value Choice\n",
            "0        101            23      A\n",
            "1        102            45      B\n",
            "2        103            12      A\n",
            "3        104            67      C\n",
            "4        105            34      B\n"
          ]
        }
      ]
    },
    {
      "cell_type": "code",
      "source": [
        "# 5. Fixing and running buggy code (Assuming a sample buggy code example)\n",
        "\n",
        "print(\"\\nBug-free code output of df.head():\")\n",
        "print(df.head())\n"
      ],
      "metadata": {
        "colab": {
          "base_uri": "https://localhost:8080/"
        },
        "id": "GHzLP8VZxJkx",
        "outputId": "2709cede-ee27-40e1-ebcf-cbe3d61379d7"
      },
      "execution_count": 17,
      "outputs": [
        {
          "output_type": "stream",
          "name": "stdout",
          "text": [
            "\n",
            "Bug-free code output of df.head():\n",
            "   ID number  Random value Choice\n",
            "0        101            23      A\n",
            "1        102            45      B\n",
            "2        103            12      A\n",
            "3        104            67      C\n",
            "4        105            34      B\n"
          ]
        }
      ]
    },
    {
      "cell_type": "code",
      "source": [
        "# 6. Read the provided CSV file ‘data.csv’\n",
        "csv_path = 'data.csv'\n",
        "df2 = pd.read_csv(csv_path)"
      ],
      "metadata": {
        "id": "ofiH2NDlxJaG"
      },
      "execution_count": 21,
      "outputs": []
    },
    {
      "cell_type": "code",
      "source": [
        "# 7. Basic statistical description\n",
        "print(\"\\nStatistical description:\")\n",
        "print(df2.describe())"
      ],
      "metadata": {
        "colab": {
          "base_uri": "https://localhost:8080/"
        },
        "id": "JQPrdkFRxJPs",
        "outputId": "a4932360-7f19-4215-a6f0-69693824b48d"
      },
      "execution_count": 20,
      "outputs": [
        {
          "output_type": "stream",
          "name": "stdout",
          "text": [
            "\n",
            "Statistical description:\n",
            "         Duration       Pulse    Maxpulse     Calories\n",
            "count  169.000000  169.000000  169.000000   164.000000\n",
            "mean    63.846154  107.461538  134.047337   375.790244\n",
            "std     42.299949   14.510259   16.450434   266.379919\n",
            "min     15.000000   80.000000  100.000000    50.300000\n",
            "25%     45.000000  100.000000  124.000000   250.925000\n",
            "50%     60.000000  105.000000  131.000000   318.600000\n",
            "75%     60.000000  111.000000  141.000000   387.600000\n",
            "max    300.000000  159.000000  184.000000  1860.400000\n"
          ]
        }
      ]
    },
    {
      "cell_type": "code",
      "source": [
        "# 8. Check for null values and replace with mean\n",
        "print(\"\\nNull values before filling:\")\n",
        "print(df2.isnull().sum())\n",
        "\n",
        "df2.fillna(df2.mean(numeric_only=True), inplace=True)\n",
        "\n",
        "print(\"\\nNull values after filling:\")\n",
        "print(df2.isnull().sum())"
      ],
      "metadata": {
        "colab": {
          "base_uri": "https://localhost:8080/"
        },
        "id": "VbiozJXIxb9V",
        "outputId": "4e041d0c-eb68-43a9-c798-dad81cbbedc2"
      },
      "execution_count": 9,
      "outputs": [
        {
          "output_type": "stream",
          "name": "stdout",
          "text": [
            "\n",
            "Null values before filling:\n",
            "Duration    0\n",
            "Pulse       0\n",
            "Maxpulse    0\n",
            "Calories    5\n",
            "dtype: int64\n",
            "\n",
            "Null values after filling:\n",
            "Duration    0\n",
            "Pulse       0\n",
            "Maxpulse    0\n",
            "Calories    0\n",
            "dtype: int64\n"
          ]
        }
      ]
    },
    {
      "cell_type": "code",
      "source": [
        "# 9. Aggregate two columns\n",
        "print(\"\\nAggregate on 'Duration' and 'Calories':\")\n",
        "print(df2[[\"Duration\", \"Calories\"]].agg([\"min\", \"max\", \"count\", \"mean\"]))"
      ],
      "metadata": {
        "colab": {
          "base_uri": "https://localhost:8080/"
        },
        "id": "UDKrtPOrxsry",
        "outputId": "f1a20c47-e76f-4347-ed06-511a31ac4e16"
      },
      "execution_count": 10,
      "outputs": [
        {
          "output_type": "stream",
          "name": "stdout",
          "text": [
            "\n",
            "Aggregate on 'Duration' and 'Calories':\n",
            "         Duration     Calories\n",
            "min     15.000000    50.300000\n",
            "max    300.000000  1860.400000\n",
            "count  169.000000   169.000000\n",
            "mean    63.846154   375.790244\n"
          ]
        }
      ]
    },
    {
      "cell_type": "code",
      "source": [
        "# 10. Filter rows where Calories between 500 and 1000\n",
        "print(\"\\nRows with 500 < Calories < 1000:\")\n",
        "print(df2[(df2[\"Calories\"] > 500) & (df2[\"Calories\"] < 1000)])"
      ],
      "metadata": {
        "colab": {
          "base_uri": "https://localhost:8080/"
        },
        "id": "TI86MA8jxsiK",
        "outputId": "e2c2e8a6-8f77-41ce-f6dd-997378d6ecd0"
      },
      "execution_count": 11,
      "outputs": [
        {
          "output_type": "stream",
          "name": "stdout",
          "text": [
            "\n",
            "Rows with 500 < Calories < 1000:\n",
            "     Duration  Pulse  Maxpulse  Calories\n",
            "51         80    123       146     643.1\n",
            "62        160    109       135     853.0\n",
            "65        180     90       130     800.4\n",
            "66        150    105       135     873.4\n",
            "67        150    107       130     816.0\n",
            "72         90    100       127     700.0\n",
            "73        150     97       127     953.2\n",
            "75         90     98       125     563.2\n",
            "78        120    100       130     500.4\n",
            "90        180    101       127     600.1\n",
            "99         90     93       124     604.1\n",
            "103        90     90       100     500.4\n",
            "106       180     90       120     800.3\n",
            "108        90     90       120     500.3\n"
          ]
        }
      ]
    },
    {
      "cell_type": "code",
      "source": [
        "# 11. Filter where Calories > 500 and Pulse < 100\n",
        "print(\"\\nCalories > 500 and Pulse < 100:\")\n",
        "print(df2[(df2[\"Calories\"] > 500) & (df2[\"Pulse\"] < 100)])"
      ],
      "metadata": {
        "colab": {
          "base_uri": "https://localhost:8080/"
        },
        "id": "E1Y7G51UxsTk",
        "outputId": "6aae9c19-9647-49d8-fd1e-6c3a11759d12"
      },
      "execution_count": 12,
      "outputs": [
        {
          "output_type": "stream",
          "name": "stdout",
          "text": [
            "\n",
            "Calories > 500 and Pulse < 100:\n",
            "     Duration  Pulse  Maxpulse  Calories\n",
            "65        180     90       130     800.4\n",
            "70        150     97       129    1115.0\n",
            "73        150     97       127     953.2\n",
            "75         90     98       125     563.2\n",
            "99         90     93       124     604.1\n",
            "103        90     90       100     500.4\n",
            "106       180     90       120     800.3\n",
            "108        90     90       120     500.3\n"
          ]
        }
      ]
    },
    {
      "cell_type": "code",
      "source": [
        "# 12. Create df_modified without 'Maxpulse'\n",
        "df_modified = df2.drop(columns=[\"Maxpulse\"])\n",
        "print(\"\\ndf_modified without 'Maxpulse':\")\n",
        "print(df_modified.head())"
      ],
      "metadata": {
        "colab": {
          "base_uri": "https://localhost:8080/"
        },
        "id": "2vo3gnCgxsIU",
        "outputId": "51a0f6ce-d9b8-4937-9977-6701bd83a137"
      },
      "execution_count": 13,
      "outputs": [
        {
          "output_type": "stream",
          "name": "stdout",
          "text": [
            "\n",
            "df_modified without 'Maxpulse':\n",
            "   Duration  Pulse  Calories\n",
            "0        60    110     409.1\n",
            "1        60    117     479.0\n",
            "2        60    103     340.0\n",
            "3        45    109     282.4\n",
            "4        45    117     406.0\n"
          ]
        }
      ]
    },
    {
      "cell_type": "code",
      "source": [
        "# 13. Delete 'Maxpulse' from original df2\n",
        "df2.drop(columns=[\"Maxpulse\"], inplace=True)\n",
        "print(\"\\nOriginal df2 after removing 'Maxpulse':\")\n",
        "print(df2.head())\n"
      ],
      "metadata": {
        "colab": {
          "base_uri": "https://localhost:8080/"
        },
        "id": "M8IwEMjAx1r-",
        "outputId": "4587cab6-a7ef-489c-fb8d-e4ba66272632"
      },
      "execution_count": 14,
      "outputs": [
        {
          "output_type": "stream",
          "name": "stdout",
          "text": [
            "\n",
            "Original df2 after removing 'Maxpulse':\n",
            "   Duration  Pulse  Calories\n",
            "0        60    110     409.1\n",
            "1        60    117     479.0\n",
            "2        60    103     340.0\n",
            "3        45    109     282.4\n",
            "4        45    117     406.0\n"
          ]
        }
      ]
    },
    {
      "cell_type": "code",
      "source": [
        "\n",
        "# 14. Convert 'Calories' to integer type\n",
        "df2[\"Calories\"] = df2[\"Calories\"].astype(int)\n",
        "print(\"\\nData types after converting 'Calories' to int:\")\n",
        "print(df2.dtypes)"
      ],
      "metadata": {
        "colab": {
          "base_uri": "https://localhost:8080/"
        },
        "id": "TOfXjVtUx1gm",
        "outputId": "8692ccdc-8fed-485f-fdc0-a4f5a91a66ec"
      },
      "execution_count": 15,
      "outputs": [
        {
          "output_type": "stream",
          "name": "stdout",
          "text": [
            "\n",
            "Data types after converting 'Calories' to int:\n",
            "Duration    int64\n",
            "Pulse       int64\n",
            "Calories    int64\n",
            "dtype: object\n"
          ]
        }
      ]
    },
    {
      "cell_type": "code",
      "source": [
        "# 15. Scatter plot of Duration vs Calories\n",
        "plt.figure(figsize=(8, 5))\n",
        "plt.scatter(df2[\"Duration\"], df2[\"Calories\"], c='green', alpha=0.6)\n",
        "plt.title(\"Scatter Plot: Duration vs Calories\")\n",
        "plt.xlabel(\"Duration\")\n",
        "plt.ylabel(\"Calories\")\n",
        "plt.grid(True)\n",
        "plt.tight_layout()\n",
        "plt.show()"
      ],
      "metadata": {
        "colab": {
          "base_uri": "https://localhost:8080/",
          "height": 507
        },
        "id": "CkYcU2oex1Yi",
        "outputId": "ac3adbec-4abc-40c7-f11c-e25f2319f1d0"
      },
      "execution_count": 16,
      "outputs": [
        {
          "output_type": "display_data",
          "data": {
            "text/plain": [
              "<Figure size 800x500 with 1 Axes>"
            ],
            "image/png": "[encoded data removed]"
          },
          "metadata": {}
        }
      ]
    }
  ]
}