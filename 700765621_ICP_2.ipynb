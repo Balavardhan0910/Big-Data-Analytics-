{
  "nbformat": 4,
  "nbformat_minor": 0,
  "metadata": {
    "colab": {
      "provenance": []
    },
    "kernelspec": {
      "name": "python3",
      "display_name": "Python 3"
    },
    "language_info": {
      "name": "python"
    }
  },
  "cells": [
    {
      "cell_type": "markdown",
      "source": [
        "**Balavardhan Reddy Kotla**\n",
        "**700765621**"
      ],
      "metadata": {
        "id": "PQ53HNle1FEn"
      }
    },
    {
      "cell_type": "markdown",
      "source": [
        "**Q1**  \n",
        "* Counter.count refers to a class variable — shared across all instances.\n",
        "\n",
        "* self._count is an instance variable — unique to each object."
      ],
      "metadata": {
        "id": "8mz4GD8NteYw"
      }
    },
    {
      "cell_type": "code",
      "execution_count": 13,
      "metadata": {
        "colab": {
          "base_uri": "https://localhost:8080/"
        },
        "id": "a8Nu7UM5tRft",
        "outputId": "b58f204f-a437-4978-cb84-27e909d4a4bd"
      },
      "outputs": [
        {
          "output_type": "stream",
          "name": "stdout",
          "text": [
            "Instance count: 2, class count: 3\n",
            "Instance count: 1, class count: 3\n"
          ]
        }
      ],
      "source": [
        "class Counter:\n",
        "    count = 0  # Class variable\n",
        "\n",
        "    def __init__(self):\n",
        "        self._count = 0\n",
        "\n",
        "    def increment(self):\n",
        "        self._count += 1\n",
        "        Counter.count += 1\n",
        "\n",
        "    def get_counts(self):\n",
        "        return f\"Instance count: {self._count}, class count: {Counter.count}\"\n",
        "\n",
        "\n",
        "a = Counter()\n",
        "b = Counter()\n",
        "\n",
        "a.increment()\n",
        "a.increment()\n",
        "b.increment()\n",
        "\n",
        "print(a.get_counts())  # Output: Instance count: 2, class count: 3\n",
        "print(b.get_counts())  # Output: Instance count: 1, class count: 3\n",
        "\n"
      ]
    },
    {
      "cell_type": "markdown",
      "source": [
        "Counter.count: incremented 3 times in total (shared)\n",
        "\n",
        "a._count: incremented 2 times\n",
        "\n",
        "b._count: incremented once"
      ],
      "metadata": {
        "id": "Q1eBIlEVxxum"
      }
    },
    {
      "cell_type": "markdown",
      "source": [
        "**Q2**"
      ],
      "metadata": {
        "id": "df2A8kMoyHlM"
      }
    },
    {
      "cell_type": "code",
      "source": [
        "def sum_all(*args):\n",
        "    return sum(args)\n",
        "\n",
        "print(\"Sum of 1, 2, 3 is:\", sum_all(1, 2, 3))\n",
        "print(\"Sum of 4, 5, 6, 7 is:\", sum_all(4, 5, 6, 7))\n"
      ],
      "metadata": {
        "colab": {
          "base_uri": "https://localhost:8080/"
        },
        "id": "vtP7BXP7yL7j",
        "outputId": "4a59be0b-f762-40c1-c66b-54d6be0bafe0"
      },
      "execution_count": 14,
      "outputs": [
        {
          "output_type": "stream",
          "name": "stdout",
          "text": [
            "Sum of 1, 2, 3 is: 6\n",
            "Sum of 4, 5, 6, 7 is: 22\n"
          ]
        }
      ]
    },
    {
      "cell_type": "markdown",
      "source": [
        "* The sum_all function only accepts one argument args, but we are passing multiple values (sum_all(1, 2, 3)) — this causes a TypeError.\n",
        "\n",
        "* The return statement is not indented.\n",
        "\n",
        "* You should use *args to allow a variable number of arguments.\n",
        "\n"
      ],
      "metadata": {
        "id": "yxFw9i7TzGZM"
      }
    },
    {
      "cell_type": "markdown",
      "source": [
        "**Q3**"
      ],
      "metadata": {
        "id": "QTZmE2Btzuec"
      }
    },
    {
      "cell_type": "code",
      "source": [
        "def first_word(word_list):\n",
        "    word_list.sort()\n",
        "    return word_list[0]\n",
        "\n",
        "# Example\n",
        "students = ['Mary', 'Zelda', 'Jimmy', 'Jack', 'Bartholomew', 'Gertrude']\n",
        "print(first_word(students))\n"
      ],
      "metadata": {
        "colab": {
          "base_uri": "https://localhost:8080/"
        },
        "id": "PNJwQDc7zzAg",
        "outputId": "b594de21-8f30-443a-b762-38b146a462e0"
      },
      "execution_count": 16,
      "outputs": [
        {
          "output_type": "stream",
          "name": "stdout",
          "text": [
            "Bartholomew\n"
          ]
        }
      ]
    },
    {
      "cell_type": "markdown",
      "source": [
        "**Q4**"
      ],
      "metadata": {
        "id": "M-5qnPKI0S9k"
      }
    },
    {
      "cell_type": "code",
      "source": [
        "class Employee:\n",
        "    emp_count = 0\n",
        "    salary_total = 0\n",
        "\n",
        "    def __init__(self, name, family, salary, department):\n",
        "        self.name = name\n",
        "        self.family = family\n",
        "        self.salary = salary\n",
        "        self.department = department\n",
        "        Employee.emp_count += 1\n",
        "        Employee.salary_total += salary\n",
        "\n",
        "    @classmethod\n",
        "    def average_salary(cls):\n",
        "        return cls.salary_total / cls.emp_count\n",
        "\n",
        "class FulltimeEmployee(Employee):\n",
        "    pass\n",
        "\n",
        "# Test\n",
        "e1 = Employee(\"John\", \"Smith\", 50000, \"HR\")\n",
        "e2 = FulltimeEmployee(\"Jane\", \"Doe\", 60000, \"IT\")\n",
        "\n",
        "print(\"Average Salary:\", Employee.average_salary())\n",
        "print(\"Total Employees:\", Employee.emp_count)\n"
      ],
      "metadata": {
        "colab": {
          "base_uri": "https://localhost:8080/"
        },
        "id": "_cA2flWh0az3",
        "outputId": "9300f5aa-c270-4eee-e2e8-291493cd847d"
      },
      "execution_count": 18,
      "outputs": [
        {
          "output_type": "stream",
          "name": "stdout",
          "text": [
            "Average Salary: 55000.0\n",
            "Total Employees: 2\n"
          ]
        }
      ]
    }
  ]
}