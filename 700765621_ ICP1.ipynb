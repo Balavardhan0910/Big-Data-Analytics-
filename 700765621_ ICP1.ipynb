{
  "nbformat": 4,
  "nbformat_minor": 0,
  "metadata": {
    "colab": {
      "provenance": []
    },
    "kernelspec": {
      "name": "python3",
      "display_name": "Python 3"
    },
    "language_info": {
      "name": "python"
    }
  },
  "cells": [
    {
      "cell_type": "markdown",
      "source": [
        "Balavardhan Reddy Kotla\n",
        "Student Id - 700765621  \n"
      ],
      "metadata": {
        "id": "h5-1hNmmaPwc"
      }
    },
    {
      "cell_type": "markdown",
      "source": [
        "**Q5**"
      ],
      "metadata": {
        "id": "lQ24hlcjZ-P3"
      }
    },
    {
      "cell_type": "code",
      "execution_count": 1,
      "metadata": {
        "colab": {
          "base_uri": "https://localhost:8080/"
        },
        "id": "8j1HvLWlZrbR",
        "outputId": "a5d02a04-a92b-4133-83cd-9f1e86951160"
      },
      "outputs": [
        {
          "output_type": "stream",
          "name": "stdout",
          "text": [
            "Enter the string 'python': python\n",
            "Modified and reversed string: noht\n",
            "Enter first number: 5\n",
            "Enter second number: 6\n",
            "Addition: 11.0\n",
            "Subtraction: -1.0\n",
            "Multiplication: 30.0\n",
            "Division: 0.8333333333333334\n"
          ]
        }
      ],
      "source": [
        "#(a)To Manipulate a string entered as characters\n",
        "\n",
        "# Input the string as characters\n",
        "char_list = list(input(\"Enter the string 'python': \"))\n",
        "\n",
        "# To Delete at least 2 characters\n",
        "del char_list[0]\n",
        "del char_list[0]\n",
        "# Reverse the resultant list\n",
        "char_list.reverse()\n",
        "\n",
        "# Join back to string and print\n",
        "result_string = ''.join(char_list)\n",
        "print(\"Modified and reversed string:\", result_string)\n",
        "\n",
        "\n",
        "# (b): Arithmetic operations on two numbers\n",
        "\n",
        "# Input two numbers from user\n",
        "num1 = float(input(\"Enter first number: \"))\n",
        "num2 = float(input(\"Enter second number: \"))\n",
        "\n",
        "# Performing 4 arithmetic operations\n",
        "print(\"Addition:\", num1 + num2)\n",
        "print(\"Subtraction:\", num1 - num2)\n",
        "print(\"Multiplication:\", num1 * num2)\n",
        "\n",
        "if num2 != 0:\n",
        "    print(\"Division:\", num1 / num2)\n",
        "else:\n",
        "    print(\"Division: Cannot divide by zero\")\n"
      ]
    },
    {
      "cell_type": "markdown",
      "source": [
        "**Q6**"
      ],
      "metadata": {
        "id": "vXZlRWzobKhZ"
      }
    },
    {
      "cell_type": "code",
      "source": [
        "\n",
        "sentence = input(\"Enter a sentence: \")\n",
        "\n",
        "# Replace 'python' with 'pythons'\n",
        "modified_sentence = sentence.replace(\"python\", \"pythons\")\n",
        "\n",
        "# Print the modified sentence\n",
        "print(\"Modified sentence:\", modified_sentence)\n"
      ],
      "metadata": {
        "colab": {
          "base_uri": "https://localhost:8080/"
        },
        "id": "iacCkptYbJVJ",
        "outputId": "3d4e73eb-413e-450e-9423-8d45c1dc25fd"
      },
      "execution_count": 4,
      "outputs": [
        {
          "output_type": "stream",
          "name": "stdout",
          "text": [
            "Enter a sentence: I love playing with python\n",
            "Modified sentence: I love playing with pythons\n"
          ]
        }
      ]
    },
    {
      "cell_type": "markdown",
      "source": [
        "**Q7**"
      ],
      "metadata": {
        "id": "93Nh8GOscU_C"
      }
    },
    {
      "cell_type": "code",
      "source": [
        "# class score\n",
        "score = float(input(\"Enter your class score (0-100): \"))\n",
        "\n",
        "# Determine letter grade using if statements\n",
        "if score >= 90 and score <= 100:\n",
        "    grade = 'A'\n",
        "elif score >= 80:\n",
        "    grade = 'B'\n",
        "elif score >= 70:\n",
        "    grade = 'C'\n",
        "elif score >= 60:\n",
        "    grade = 'D'\n",
        "elif score >= 0:\n",
        "    grade = 'F'\n",
        "else:\n",
        "    grade = 'Invalid score'\n",
        "\n",
        "# Print the result\n",
        "print(\"Your grade is:\", grade)\n"
      ],
      "metadata": {
        "colab": {
          "base_uri": "https://localhost:8080/"
        },
        "id": "QEvqMM94cVP9",
        "outputId": "91650063-cd79-4060-fab2-8eb16bd2a895"
      },
      "execution_count": 9,
      "outputs": [
        {
          "output_type": "stream",
          "name": "stdout",
          "text": [
            "Enter your class score (0-100): 99\n",
            "Your grade is: A\n"
          ]
        }
      ]
    },
    {
      "cell_type": "markdown",
      "source": [
        "**Q8**"
      ],
      "metadata": {
        "id": "sm8NUI_KdLhv"
      }
    },
    {
      "cell_type": "code",
      "source": [
        "x = [23, 'Python', 23.98]\n",
        "types = [type(item) for item in x]\n",
        "\n",
        "print(x)\n",
        "\n",
        "print(types)\n",
        "\n"
      ],
      "metadata": {
        "colab": {
          "base_uri": "https://localhost:8080/"
        },
        "id": "PJm33jIGdKXx",
        "outputId": "11a4f4d1-0311-41ae-c99d-abdb49526250"
      },
      "execution_count": 14,
      "outputs": [
        {
          "output_type": "stream",
          "name": "stdout",
          "text": [
            "[23, 'Python', 23.98]\n",
            "[<class 'int'>, <class 'str'>, <class 'float'>]\n"
          ]
        }
      ]
    },
    {
      "cell_type": "markdown",
      "source": [
        "**Q9**"
      ],
      "metadata": {
        "id": "bgchDgoFeWKj"
      }
    },
    {
      "cell_type": "code",
      "source": [
        "\n",
        "IT_companies = {'Facebook', 'Google', 'Microsoft', 'Apple', 'IBM', 'Oracle', 'Amazon'}\n",
        "A = {19, 22, 24, 20, 25, 26}\n",
        "B = {19, 22, 20, 25, 26, 24, 28, 27}\n",
        "age = [22, 19, 24, 25, 26, 24, 25, 24]\n",
        "\n",
        "# 1. Find the length of the set IT_companies\n",
        "print(\"1.Length of IT_companies:\", len(IT_companies))\n",
        "\n",
        "# 2. Add 'Twitter' to IT_companies\n",
        "IT_companies.add('Twitter')\n",
        "print(\"2.After adding Twitter:\", IT_companies)\n",
        "\n",
        "# 3. Insert multiple IT companies at once to the set IT_companies\n",
        "IT_companies.update(['Samsung', 'Intel', 'Cisco'])\n",
        "print(\"3.After adding multiple companies:\", IT_companies)\n",
        "\n",
        "# 4. Remove one of the companies from the set IT_companies\n",
        "IT_companies.remove('Oracle')  # You can choose any one\n",
        "print(\"4.After removing Oracle:\", IT_companies)\n",
        "\n",
        "# 5. Difference between remove and discard\n",
        "print(\"\\n4.Difference between remove and discard:\")\n",
        "print(\"- remove() throws an error if the item doesn't exist.\")\n",
        "print(\"- discard() does nothing if the item doesn't exist.\")\n",
        "\n",
        "# Demonstration\n",
        "# IT_companies.remove('Netflix')  # Will raise KeyError if not found\n",
        "IT_companies.discard('Netflix')   # Will NOT raise error even if not found\n",
        "\n",
        "# 6. Join A and B (Union)\n",
        "joined_AB = A.union(B)\n",
        "print(\"\\n6.Join of A and B:\", joined_AB)\n",
        "\n",
        "# 7. Find A intersection B\n",
        "print(\"7. A ∩ B:\", A.intersection(B))\n",
        "\n",
        "# 8. Is A subset of B?\n",
        "print(\"8. Is A subset of B?\", A.issubset(B))\n",
        "\n",
        "# 9. Are A and B disjoint sets?\n",
        "print(\"9. Are A and B disjoint?\", A.isdisjoint(B))\n",
        "\n",
        "# 10. Join A with B and B with A (union again — same result)\n",
        "print(\"10. A ∪ B:\", A.union(B))\n",
        "print(\"    B ∪ A:\", B.union(A))\n",
        "\n",
        "# 11. Symmetric difference between A and B\n",
        "print(\"11.Symmetric difference (A △ B):\", A.symmetric_difference(B))\n",
        "\n",
        "# 12. Delete the sets completely\n",
        "del A\n",
        "del B\n",
        "# print(A)  # Uncommenting this will raise a NameError\n",
        "\n",
        "# 13. Convert the ages to a set and compare lengths\n",
        "age_set = set(age)\n",
        "print(\"\\nOriginal age list:\", age)\n",
        "print(\"Converted age set:\", age_set)\n",
        "print(\"Length of age list:\", len(age))\n",
        "print(\"Length of age set:\", len(age_set))\n"
      ],
      "metadata": {
        "colab": {
          "base_uri": "https://localhost:8080/"
        },
        "id": "yvlcN7GfeZJs",
        "outputId": "97b2d5f4-03a6-4af7-e930-5c969982927c"
      },
      "execution_count": 25,
      "outputs": [
        {
          "output_type": "stream",
          "name": "stdout",
          "text": [
            "1.Length of IT_companies: 7\n",
            "2.After adding Twitter: {'Apple', 'Amazon', 'IBM', 'Google', 'Twitter', 'Oracle', 'Facebook', 'Microsoft'}\n",
            "3.After adding multiple companies: {'IBM', 'Twitter', 'Oracle', 'Cisco', 'Intel', 'Google', 'Samsung', 'Apple', 'Amazon', 'Facebook', 'Microsoft'}\n",
            "4.After removing Oracle: {'IBM', 'Twitter', 'Cisco', 'Intel', 'Google', 'Samsung', 'Apple', 'Amazon', 'Facebook', 'Microsoft'}\n",
            "\n",
            "4.Difference between remove and discard:\n",
            "- remove() throws an error if the item doesn't exist.\n",
            "- discard() does nothing if the item doesn't exist.\n",
            "\n",
            "6.Join of A and B: {19, 20, 22, 24, 25, 26, 27, 28}\n",
            "7. A ∩ B: {19, 20, 22, 24, 25, 26}\n",
            "8. Is A subset of B? True\n",
            "9. Are A and B disjoint? False\n",
            "10. A ∪ B: {19, 20, 22, 24, 25, 26, 27, 28}\n",
            "    B ∪ A: {19, 20, 22, 24, 25, 26, 27, 28}\n",
            "11.Symmetric difference (A △ B): {27, 28}\n",
            "\n",
            "Original age list: [22, 19, 24, 25, 26, 24, 25, 24]\n",
            "Converted age set: {19, 22, 24, 25, 26}\n",
            "Length of age list: 8\n",
            "Length of age set: 5\n"
          ]
        }
      ]
    }
  ]
}